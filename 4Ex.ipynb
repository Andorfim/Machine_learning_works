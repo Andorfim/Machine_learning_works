{
  "nbformat": 4,
  "nbformat_minor": 0,
  "metadata": {
    "colab": {
      "provenance": []
    },
    "kernelspec": {
      "name": "python3",
      "display_name": "Python 3"
    },
    "language_info": {
      "name": "python"
    }
  },
  "cells": [
    {
      "cell_type": "markdown",
      "source": [
        "\n",
        "\n",
        "```\n",
        "Computer vision, OpenEdu Course\n",
        "```\n",
        "\n"
      ],
      "metadata": {
        "id": "41FQA92vJEuP"
      }
    },
    {
      "cell_type": "code",
      "execution_count": null,
      "metadata": {
        "colab": {
          "base_uri": "https://localhost:8080/"
        },
        "id": "ba2QgzZgNQjc",
        "outputId": "08cd835c-d635-411b-e924-ae1abaeaa64d"
      },
      "outputs": [
        {
          "output_type": "stream",
          "name": "stdout",
          "text": [
            "Количество кадров в видео: 100\n",
            "Максимальное количество распознанных объектов в кадре: 27\n",
            "Максимальное количество классов в кадре: 4\n",
            "Кадр 89:\n",
            "Вероятность отнесения объекта к классу: 0.9918854832649231\n",
            "Метка класса: person\n",
            "Координата x левого верхнего угла: 401\n",
            "Координата y левого верхнего угла: 641\n",
            "Ширина прямоугольника: 97\n",
            "Высота прямоугольника: 249\n"
          ]
        }
      ],
      "source": [
        "import cv2\n",
        "import numpy as np\n",
        "\n",
        "# Пути к файлам\n",
        "cfg_file = '/content/yolov3.cfg'\n",
        "weights_file = '/content/yolov3.weights'\n",
        "names_file = '/content/coco.names'\n",
        "video_file = '/content/var_MOT17-04-SDP_4.mp4'\n",
        "\n",
        "# Загрузка имен классов\n",
        "with open(names_file, 'r') as f:\n",
        "    classes = f.read().strip().split('\\n')\n",
        "\n",
        "# Загрузка сети YOLO\n",
        "net = cv2.dnn.readNetFromDarknet(cfg_file, weights_file)\n",
        "layer_names = net.getLayerNames()\n",
        "output_layers = [layer_names[i - 1] for i in net.getUnconnectedOutLayers()]\n",
        "\n",
        "# Загрузка видео\n",
        "cap = cv2.VideoCapture(video_file)\n",
        "frame_count = int(cap.get(cv2.CAP_PROP_FRAME_COUNT))\n",
        "\n",
        "# Параметры NMS\n",
        "score_threshold = 0.5\n",
        "nms_threshold = 0.3\n",
        "\n",
        "# Инициализация переменных для анализа\n",
        "max_objects = 0\n",
        "max_classes = 0\n",
        "frame_number = 89\n",
        "frame_with_max_confidence = None\n",
        "max_confidence = 0\n",
        "best_box = None\n",
        "best_class_id = None\n",
        "\n",
        "for i in range(frame_count):\n",
        "    ret, frame = cap.read()\n",
        "    if not ret:\n",
        "        break\n",
        "\n",
        "    height, width = frame.shape[:2]\n",
        "\n",
        "    # Создание блоба из кадра и выполнение прямого прохода\n",
        "    blob = cv2.dnn.blobFromImage(frame, 1/255.0, (416, 416), swapRB=True, crop=False)\n",
        "    net.setInput(blob)\n",
        "    outputs = net.forward(output_layers)\n",
        "\n",
        "    boxes = []\n",
        "    confidences = []\n",
        "    class_ids = []\n",
        "\n",
        "    # Пост-обработка выходов сети\n",
        "    for output in outputs:\n",
        "        for detection in output:\n",
        "            scores = detection[5:]\n",
        "            class_id = np.argmax(scores)\n",
        "            confidence = scores[class_id]\n",
        "            if confidence > score_threshold:\n",
        "                box = detection[0:4] * np.array([width, height, width, height])\n",
        "                (centerX, centerY, w, h) = box.astype(\"int\")\n",
        "                x = int(centerX - (w / 2))\n",
        "                y = int(centerY - (h / 2))\n",
        "                boxes.append([x, y, int(w), int(h)])\n",
        "                confidences.append(float(confidence))\n",
        "                class_ids.append(class_id)\n",
        "\n",
        "    # Применение NMS\n",
        "    indices = cv2.dnn.NMSBoxes(boxes, confidences, score_threshold, nms_threshold)\n",
        "\n",
        "    detected_classes = set()\n",
        "    detected_objects = 0\n",
        "    for ind in indices:\n",
        "        detected_objects += 1\n",
        "        detected_classes.add(class_ids[ind])\n",
        "        if i == frame_number and confidences[ind] > max_confidence:\n",
        "            max_confidence = confidences[ind]\n",
        "            best_box = boxes[ind]\n",
        "            best_class_id = class_ids[ind]\n",
        "\n",
        "    if detected_objects > max_objects:\n",
        "        max_objects = detected_objects\n",
        "\n",
        "    if len(detected_classes) > max_classes:\n",
        "        max_classes = len(detected_classes)\n",
        "\n",
        "cap.release()\n",
        "\n",
        "# Вывод результатов\n",
        "print(\"Количество кадров в видео:\", frame_count)\n",
        "print(\"Максимальное количество распознанных объектов в кадре:\", max_objects)\n",
        "print(\"Максимальное количество классов в кадре:\", max_classes)\n",
        "print(\"Кадр 89:\")\n",
        "print(\"Вероятность отнесения объекта к классу:\", max_confidence)\n",
        "print(\"Метка класса:\", classes[best_class_id])\n",
        "print(\"Координата x левого верхнего угла:\", best_box[0])\n",
        "print(\"Координата y левого верхнего угла:\", best_box[1])\n",
        "print(\"Ширина прямоугольника:\", best_box[2])\n",
        "print(\"Высота прямоугольника:\", best_box[3])\n"
      ]
    }
  ]
}